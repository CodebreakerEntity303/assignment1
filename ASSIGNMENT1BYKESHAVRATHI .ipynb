{
 "cells": [
  {
   "cell_type": "code",
   "execution_count": 9,
   "id": "2a17364a",
   "metadata": {},
   "outputs": [
    {
     "name": "stdout",
     "output_type": "stream",
     "text": [
      "15\n",
      "25\n",
      "35\n",
      "45\n",
      "55\n",
      "65\n",
      "75\n",
      "85\n",
      "95\n",
      "\n",
      "1\n",
      "2\n",
      "3\n",
      "4\n",
      "5\n",
      "6\n",
      "7\n",
      "8\n",
      "9\n",
      "10\n"
     ]
    }
   ],
   "source": [
    "#Q1\n",
    "\n",
    "#For Loop is use when we know how many times a loop has to be executed \n",
    "l1 = [15,25,35,45,55,65,75,85,95]\n",
    "for i in l1:\n",
    "   print(i)\n",
    "print()\n",
    "# While loop is use when we don't know the number of iterations has to be exceuted in a loop\n",
    "j = 1\n",
    "while j < 11:\n",
    "   print(j)\n",
    "   j += 1 "
   ]
  },
  {
   "cell_type": "code",
   "execution_count": 10,
   "id": "e6a38033",
   "metadata": {},
   "outputs": [
    {
     "name": "stdout",
     "output_type": "stream",
     "text": [
      "55\n",
      "3628800\n",
      "55\n",
      "3628800\n"
     ]
    }
   ],
   "source": [
    "#Q2\n",
    "n=10\n",
    "sum1=0\n",
    "product1=1\n",
    "sum2=0\n",
    "product2=1\n",
    "num=1\n",
    "for i in range(1,n+1,1):\n",
    "    sum1=sum1+i\n",
    "    product1=product1*i\n",
    "print(sum1)\n",
    "print(product1)\n",
    "while num<=10:\n",
    "    sum2=sum2+num\n",
    "    product2=product2*num\n",
    "    num+=1\n",
    "print(sum2)\n",
    "print(product2)    "
   ]
  },
  {
   "cell_type": "code",
   "execution_count": 11,
   "id": "097e49bc",
   "metadata": {},
   "outputs": [
    {
     "name": "stdout",
     "output_type": "stream",
     "text": [
      "Enter your unit: 310\n",
      "2250.0\n"
     ]
    }
   ],
   "source": [
    "#Q3\n",
    "units = int(input(\"Enter your unit: \"))\n",
    "if (units <= 100):\n",
    "    print(units * 4.5)\n",
    "elif (units <= 200):\n",
    "    print(((100 * 4.5) +(units - 100) * 6))\n",
    "elif (units <= 300):\n",
    "    print(((100 * 4.5) +(100 * 6) +(units - 200) * 10))\n",
    "elif (units > 300):\n",
    "    print(((100 * 4.5) +(100 * 6) +(100 * 10) +(units - 300) * 20))"
   ]
  },
  {
   "cell_type": "code",
   "execution_count": 12,
   "id": "5113dd41",
   "metadata": {},
   "outputs": [
    {
     "name": "stdout",
     "output_type": "stream",
     "text": [
      "[8, 64, 125, 216, 512, 1000, 1728, 2744, 3375, 4096, 5832, 8000, 10648, 13824, 15625, 17576, 21952, 27000, 32768, 39304, 42875, 46656, 54872, 64000, 74088, 85184, 91125, 97336, 110592, 125000, 140608, 157464, 166375, 175616, 195112, 216000, 238328, 262144, 274625, 287496, 314432, 343000, 373248, 405224, 421875, 438976, 474552, 512000, 551368, 592704, 614125, 636056, 681472, 729000, 778688, 830584, 857375, 884736, 941192, 1000000]\n"
     ]
    }
   ],
   "source": [
    "#Q4\n",
    "res = []\n",
    "for i in range(1,101,1):\n",
    "    a=i*i*i\n",
    "    if a%4==0 or a%5==0:\n",
    "       res.append(a)\n",
    "    else:\n",
    "       pass\n",
    "print(res)"
   ]
  },
  {
   "cell_type": "code",
   "execution_count": 13,
   "id": "123f1573",
   "metadata": {},
   "outputs": [
    {
     "name": "stdout",
     "output_type": "stream",
     "text": [
      "Number of vowels in the given string is:  12\n"
     ]
    }
   ],
   "source": [
    "#Q5\n",
    "string = \"I want to become a data scientist\"\n",
    "\n",
    "count = 0\n",
    "i = 0\n",
    "string1=string.lower()\n",
    "for i in range(len(string1)):\n",
    "    if (\n",
    "        (string1[i] == \"a\")\n",
    "        or (string1[i] == \"e\")\n",
    "        or (string1[i] == \"i\")\n",
    "        or (string1[i] == \"o\")\n",
    "        or (string1[i] == \"u\")\n",
    "    ):\n",
    "        count += 1\n",
    "print(\"Number of vowels in the given string is: \", count)\n",
    "\n",
    "       "
   ]
  }
 ],
 "metadata": {
  "kernelspec": {
   "display_name": "Python 3 (ipykernel)",
   "language": "python",
   "name": "python3"
  },
  "language_info": {
   "codemirror_mode": {
    "name": "ipython",
    "version": 3
   },
   "file_extension": ".py",
   "mimetype": "text/x-python",
   "name": "python",
   "nbconvert_exporter": "python",
   "pygments_lexer": "ipython3",
   "version": "3.11.1"
  }
 },
 "nbformat": 4,
 "nbformat_minor": 5
}
